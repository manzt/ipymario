{
 "cells": [
  {
   "cell_type": "code",
   "execution_count": 1,
   "id": "03d45df4-96d5-4548-911d-00bf8938b6da",
   "metadata": {},
   "outputs": [
    {
     "name": "stdout",
     "output_type": "stream",
     "text": [
      "env: ANYWIDGET_HMR=1\n"
     ]
    }
   ],
   "source": [
    "%env ANYWIDGET_HMR=1"
   ]
  },
  {
   "cell_type": "code",
   "execution_count": 2,
   "id": "c820218d-3fc4-404c-989c-561725a7acc9",
   "metadata": {},
   "outputs": [
    {
     "data": {
      "application/vnd.jupyter.widget-view+json": {
       "model_id": "cec20bb4398d43dd9b712acfd214c866",
       "version_major": 2,
       "version_minor": 0
      },
      "text/plain": [
       "Widget()"
      ]
     },
     "execution_count": 2,
     "metadata": {},
     "output_type": "execute_result"
    }
   ],
   "source": [
    "import anywidget\n",
    "import traitlets\n",
    "\n",
    "import numpy as np\n",
    "\n",
    "colors = {\n",
    "  'O': [0, 0, 0, 255],\n",
    "  'X': [247, 82, 0, 255],\n",
    "  ' ': [247, 186, 119, 255],\n",
    "}\n",
    "\n",
    "box = [\n",
    "    ['O', 'X', 'X', 'X', 'X', 'X', 'X', 'X', 'X', 'X', 'X', 'X', 'X', 'X', 'X', 'O'],\n",
    "    ['X', ' ', ' ', ' ', ' ', ' ', ' ', ' ', ' ', ' ', ' ', ' ', ' ', ' ', ' ', 'O'],\n",
    "    ['X', ' ', 'O', ' ', ' ', ' ', ' ', ' ', ' ', ' ', ' ', ' ', ' ', 'O', ' ', 'O'],\n",
    "    ['X', ' ', ' ', ' ', ' ', 'X', 'X', 'X', 'X', 'X', ' ', ' ', ' ', ' ', ' ', 'O'],\n",
    "    ['X', ' ', ' ', ' ', 'X', 'X', 'O', 'O', 'O', 'X', 'X', ' ', ' ', ' ', ' ', 'O'],\n",
    "    ['X', ' ', ' ', ' ', 'X', 'X', 'O', ' ', ' ', 'X', 'X', 'O', ' ', ' ', ' ', 'O'],\n",
    "    ['X', ' ', ' ', ' ', 'X', 'X', 'O', ' ', ' ', 'X', 'X', 'O', ' ', ' ', ' ', 'O'],\n",
    "    ['X', ' ', ' ', ' ', ' ', 'O', 'O', ' ', 'X', 'X', 'X', 'O', ' ', ' ', ' ', 'O'],\n",
    "    ['X', ' ', ' ', ' ', ' ', ' ', ' ', 'X', 'X', 'O', 'O', 'O', ' ', ' ', ' ', 'O'],\n",
    "    ['X', ' ', ' ', ' ', ' ', ' ', ' ', 'X', 'X', 'O', ' ', ' ', ' ', ' ', ' ', 'O'],\n",
    "    ['X', ' ', ' ', ' ', ' ', ' ', ' ', ' ', 'O', 'O', ' ', ' ', ' ', ' ', ' ', 'O'],\n",
    "    ['X', ' ', ' ', ' ', ' ', ' ', ' ', 'X', 'X', ' ', ' ', ' ', ' ', ' ', ' ', 'O'],\n",
    "    ['X', ' ', ' ', ' ', ' ', ' ', ' ', 'X', 'X', 'O', ' ', ' ', ' ', ' ', ' ', 'O'],\n",
    "    ['X', ' ', 'O', ' ', ' ', ' ', ' ', ' ', 'O', 'O', ' ', ' ', ' ', 'O', ' ', 'O'],\n",
    "    ['X', ' ', ' ', ' ', ' ', ' ', ' ', ' ', ' ', ' ', ' ', ' ', ' ', ' ', ' ', 'O'],\n",
    "    ['O', 'O', 'O', 'O', 'O', 'O', 'O', 'O', 'O', 'O', 'O', 'O', 'O', 'O', 'O', 'O'],\n",
    "]\n",
    "\n",
    "np_box = np.array([[colors[c] for c in row] for row in box], dtype=np.uint8)\n",
    "\n",
    "class Widget(anywidget.AnyWidget):\n",
    "    _esm = \"widget.js\"\n",
    "    _css = \"widget.css\"\n",
    "    _box = traitlets.Bytes(np_box.tobytes()).tag(sync=True)\n",
    "    gain = traitlets.Float(0.1).tag(sync=True)\n",
    "    duration = traitlets.Float(1.0).tag(sync=True)\n",
    "    size = traitlets.Int(30).tag(sync=True)\n",
    "    animate = traitlets.Bool(True).tag(sync=True)\n",
    "\n",
    "    def click(self):\n",
    "        self.send({ \"type\": \"click\" })\n",
    "\n",
    "w = Widget()\n",
    "w"
   ]
  },
  {
   "cell_type": "code",
   "execution_count": 3,
   "id": "455ee55f-7b76-42a7-8d4d-551c90f55a35",
   "metadata": {},
   "outputs": [],
   "source": [
    "w.animate = False"
   ]
  },
  {
   "cell_type": "code",
   "execution_count": 4,
   "id": "09e29ad1-9b5e-4fa3-9dfb-0f0d2f30df62",
   "metadata": {},
   "outputs": [],
   "source": [
    "w.click()"
   ]
  }
 ],
 "metadata": {
  "kernelspec": {
   "display_name": "Python 3 (ipykernel)",
   "language": "python",
   "name": "python3"
  },
  "language_info": {
   "codemirror_mode": {
    "name": "ipython",
    "version": 3
   },
   "file_extension": ".py",
   "mimetype": "text/x-python",
   "name": "python",
   "nbconvert_exporter": "python",
   "pygments_lexer": "ipython3",
   "version": "3.11.7"
  },
  "widgets": {
   "application/vnd.jupyter.widget-state+json": {
    "state": {
     "054fd45fd182418ebc41bf39873b4128": {
      "model_module": "@jupyter-widgets/base",
      "model_module_version": "2.0.0",
      "model_name": "LayoutModel",
      "state": {}
     },
     "0ac4072c02894e61839a03a80eddf41a": {
      "buffers": [
       {
        "data": "AAAA//dSAP/3UgD/91IA//dSAP/3UgD/91IA//dSAP/3UgD/91IA//dSAP/3UgD/91IA//dSAP/3UgD/AAAA//dSAP/3unf/97p3//e6d//3unf/97p3//e6d//3unf/97p3//e6d//3unf/97p3//e6d//3unf/97p3/wAAAP/3UgD/97p3/wAAAP/3unf/97p3//e6d//3unf/97p3//e6d//3unf/97p3//e6d//3unf/AAAA//e6d/8AAAD/91IA//e6d//3unf/97p3//e6d//3UgD/91IA//dSAP/3UgD/91IA//e6d//3unf/97p3//e6d//3unf/AAAA//dSAP/3unf/97p3//e6d//3UgD/91IA/wAAAP8AAAD/AAAA//dSAP/3UgD/97p3//e6d//3unf/97p3/wAAAP/3UgD/97p3//e6d//3unf/91IA//dSAP8AAAD/97p3//e6d//3UgD/91IA/wAAAP/3unf/97p3//e6d/8AAAD/91IA//e6d//3unf/97p3//dSAP/3UgD/AAAA//e6d//3unf/91IA//dSAP8AAAD/97p3//e6d//3unf/AAAA//dSAP/3unf/97p3//e6d//3unf/AAAA/wAAAP/3unf/91IA//dSAP/3UgD/AAAA//e6d//3unf/97p3/wAAAP/3UgD/97p3//e6d//3unf/97p3//e6d//3unf/91IA//dSAP8AAAD/AAAA/wAAAP/3unf/97p3//e6d/8AAAD/91IA//e6d//3unf/97p3//e6d//3unf/97p3//dSAP/3UgD/AAAA//e6d//3unf/97p3//e6d//3unf/AAAA//dSAP/3unf/97p3//e6d//3unf/97p3//e6d//3unf/AAAA/wAAAP/3unf/97p3//e6d//3unf/97p3/wAAAP/3UgD/97p3//e6d//3unf/97p3//e6d//3unf/91IA//dSAP/3unf/97p3//e6d//3unf/97p3//e6d/8AAAD/91IA//e6d//3unf/97p3//e6d//3unf/97p3//dSAP/3UgD/AAAA//e6d//3unf/97p3//e6d//3unf/AAAA//dSAP/3unf/AAAA//e6d//3unf/97p3//e6d//3unf/AAAA/wAAAP/3unf/97p3//e6d/8AAAD/97p3/wAAAP/3UgD/97p3//e6d//3unf/97p3//e6d//3unf/97p3//e6d//3unf/97p3//e6d//3unf/97p3//e6d/8AAAD/AAAA/wAAAP8AAAD/AAAA/wAAAP8AAAD/AAAA/wAAAP8AAAD/AAAA/wAAAP8AAAD/AAAA/wAAAP8AAAD/AAAA/w==",
        "encoding": "base64",
        "path": [
         "_box"
        ]
       }
      ],
      "model_module": "anywidget",
      "model_module_version": "0.9.3",
      "model_name": "AnyModel",
      "state": {
       "_anywidget_id": "ipymario.Widget",
       "_css": ".ipymario > canvas {\n    padding: 12px;\n    animation-fill-mode: both;\n}\n\n@keyframes ipymario-bounce {\n  0%, 100% { transform: translateY(0); }\n  50% { transform: translateY(-12px); }\n}\n",
       "_esm": ".ipymario > canvas {\n    padding: 12px;\n    animation-fill-mode: both;\n}\n\n@keyframes ipymario-bounce {\n  0%, 100% { transform: translateY(0); }\n  50% { transform: translateY(-12px); }\n}",
       "_model_module": "anywidget",
       "_model_module_version": "0.9.3",
       "_model_name": "AnyModel",
       "_view_module": "anywidget",
       "_view_module_version": "0.9.3",
       "_view_name": "AnyView",
       "animate": false,
       "duration": 1,
       "gain": 0.1,
       "layout": "IPY_MODEL_6604d801f16f48a2b50a32d1f7bad0e5",
       "size": 30
      }
     },
     "2d7224dd75e54434a1160d1d60100d9a": {
      "buffers": [
       {
        "data": "AAAA//dSAP/3UgD/91IA//dSAP/3UgD/91IA//dSAP/3UgD/91IA//dSAP/3UgD/91IA//dSAP/3UgD/AAAA//dSAP/3unf/97p3//e6d//3unf/97p3//e6d//3unf/97p3//e6d//3unf/97p3//e6d//3unf/97p3/wAAAP/3UgD/97p3/wAAAP/3unf/97p3//e6d//3unf/97p3//e6d//3unf/97p3//e6d//3unf/AAAA//e6d/8AAAD/91IA//e6d//3unf/97p3//e6d//3UgD/91IA//dSAP/3UgD/91IA//e6d//3unf/97p3//e6d//3unf/AAAA//dSAP/3unf/97p3//e6d//3UgD/91IA/wAAAP8AAAD/AAAA//dSAP/3UgD/97p3//e6d//3unf/97p3/wAAAP/3UgD/97p3//e6d//3unf/91IA//dSAP8AAAD/97p3//e6d//3UgD/91IA/wAAAP/3unf/97p3//e6d/8AAAD/91IA//e6d//3unf/97p3//dSAP/3UgD/AAAA//e6d//3unf/91IA//dSAP8AAAD/97p3//e6d//3unf/AAAA//dSAP/3unf/97p3//e6d//3unf/AAAA/wAAAP/3unf/91IA//dSAP/3UgD/AAAA//e6d//3unf/97p3/wAAAP/3UgD/97p3//e6d//3unf/97p3//e6d//3unf/91IA//dSAP8AAAD/AAAA/wAAAP/3unf/97p3//e6d/8AAAD/91IA//e6d//3unf/97p3//e6d//3unf/97p3//dSAP/3UgD/AAAA//e6d//3unf/97p3//e6d//3unf/AAAA//dSAP/3unf/97p3//e6d//3unf/97p3//e6d//3unf/AAAA/wAAAP/3unf/97p3//e6d//3unf/97p3/wAAAP/3UgD/97p3//e6d//3unf/97p3//e6d//3unf/91IA//dSAP/3unf/97p3//e6d//3unf/97p3//e6d/8AAAD/91IA//e6d//3unf/97p3//e6d//3unf/97p3//dSAP/3UgD/AAAA//e6d//3unf/97p3//e6d//3unf/AAAA//dSAP/3unf/AAAA//e6d//3unf/97p3//e6d//3unf/AAAA/wAAAP/3unf/97p3//e6d/8AAAD/97p3/wAAAP/3UgD/97p3//e6d//3unf/97p3//e6d//3unf/97p3//e6d//3unf/97p3//e6d//3unf/97p3//e6d/8AAAD/AAAA/wAAAP8AAAD/AAAA/wAAAP8AAAD/AAAA/wAAAP8AAAD/AAAA/wAAAP8AAAD/AAAA/wAAAP8AAAD/AAAA/w==",
        "encoding": "base64",
        "path": [
         "_box"
        ]
       }
      ],
      "model_module": "anywidget",
      "model_module_version": "0.9.3",
      "model_name": "AnyModel",
      "state": {
       "_anywidget_id": "ipymario.Widget",
       "_css": ".ipymario > canvas {\n    padding: 12px;\n    animation-fill-mode: both;\n}\n\n@keyframes ipymario-bounce {\n  0%, 100% { transform: translateY(0); }\n  50% { transform: translateY(-12px); }\n}\n",
       "_esm": ".ipymario > canvas {\n    padding: 12px;\n    animation-fill-mode: both;\n}\n\n@keyframes ipymario-bounce {\n  0%, 100% { transform: translateY(0); }\n  50% { transform: translateY(-12px); }\n}",
       "_model_module": "anywidget",
       "_model_module_version": "0.9.3",
       "_model_name": "AnyModel",
       "_view_module": "anywidget",
       "_view_module_version": "0.9.3",
       "_view_name": "AnyView",
       "animate": false,
       "duration": 1,
       "gain": 0.1,
       "layout": "IPY_MODEL_bf1a6e277be745f9b4e9f041d6121627",
       "size": 30
      }
     },
     "6604d801f16f48a2b50a32d1f7bad0e5": {
      "model_module": "@jupyter-widgets/base",
      "model_module_version": "2.0.0",
      "model_name": "LayoutModel",
      "state": {}
     },
     "7e47c7b60f78419788e0d722630c3733": {
      "model_module": "@jupyter-widgets/base",
      "model_module_version": "2.0.0",
      "model_name": "LayoutModel",
      "state": {}
     },
     "9219ddf51e3a44a490071e819e0cb33b": {
      "model_module": "@jupyter-widgets/base",
      "model_module_version": "2.0.0",
      "model_name": "LayoutModel",
      "state": {}
     },
     "9e77e87653034b839cfc7d599e36be04": {
      "buffers": [
       {
        "data": "AAAA//dSAP/3UgD/91IA//dSAP/3UgD/91IA//dSAP/3UgD/91IA//dSAP/3UgD/91IA//dSAP/3UgD/AAAA//dSAP/3unf/97p3//e6d//3unf/97p3//e6d//3unf/97p3//e6d//3unf/97p3//e6d//3unf/97p3/wAAAP/3UgD/97p3/wAAAP/3unf/97p3//e6d//3unf/97p3//e6d//3unf/97p3//e6d//3unf/AAAA//e6d/8AAAD/91IA//e6d//3unf/97p3//e6d//3UgD/91IA//dSAP/3UgD/91IA//e6d//3unf/97p3//e6d//3unf/AAAA//dSAP/3unf/97p3//e6d//3UgD/91IA/wAAAP8AAAD/AAAA//dSAP/3UgD/97p3//e6d//3unf/97p3/wAAAP/3UgD/97p3//e6d//3unf/91IA//dSAP8AAAD/97p3//e6d//3UgD/91IA/wAAAP/3unf/97p3//e6d/8AAAD/91IA//e6d//3unf/97p3//dSAP/3UgD/AAAA//e6d//3unf/91IA//dSAP8AAAD/97p3//e6d//3unf/AAAA//dSAP/3unf/97p3//e6d//3unf/AAAA/wAAAP/3unf/91IA//dSAP/3UgD/AAAA//e6d//3unf/97p3/wAAAP/3UgD/97p3//e6d//3unf/97p3//e6d//3unf/91IA//dSAP8AAAD/AAAA/wAAAP/3unf/97p3//e6d/8AAAD/91IA//e6d//3unf/97p3//e6d//3unf/97p3//dSAP/3UgD/AAAA//e6d//3unf/97p3//e6d//3unf/AAAA//dSAP/3unf/97p3//e6d//3unf/97p3//e6d//3unf/AAAA/wAAAP/3unf/97p3//e6d//3unf/97p3/wAAAP/3UgD/97p3//e6d//3unf/97p3//e6d//3unf/91IA//dSAP/3unf/97p3//e6d//3unf/97p3//e6d/8AAAD/91IA//e6d//3unf/97p3//e6d//3unf/97p3//dSAP/3UgD/AAAA//e6d//3unf/97p3//e6d//3unf/AAAA//dSAP/3unf/AAAA//e6d//3unf/97p3//e6d//3unf/AAAA/wAAAP/3unf/97p3//e6d/8AAAD/97p3/wAAAP/3UgD/97p3//e6d//3unf/97p3//e6d//3unf/97p3//e6d//3unf/97p3//e6d//3unf/97p3//e6d/8AAAD/AAAA/wAAAP8AAAD/AAAA/wAAAP8AAAD/AAAA/wAAAP8AAAD/AAAA/wAAAP8AAAD/AAAA/wAAAP8AAAD/AAAA/w==",
        "encoding": "base64",
        "path": [
         "_box"
        ]
       }
      ],
      "model_module": "anywidget",
      "model_module_version": "0.9.3",
      "model_name": "AnyModel",
      "state": {
       "_anywidget_id": "ipymario.Widget",
       "_css": ".ipymario > canvas {\n    padding: 12px;\n    animation-fill-mode: both;\n}\n\n@keyframes ipymario-bounce {\n  0%, 100% { transform: translateY(0); }\n  50% { transform: translateY(-12px); }\n}\n",
       "_esm": ".ipymario > canvas {\n    padding: 12px;\n    animation-fill-mode: both;\n}\n\n@keyframes ipymario-bounce {\n  0%, 100% { transform: translateY(0); }\n  50% { transform: translateY(-12px); }\n}",
       "_model_module": "anywidget",
       "_model_module_version": "0.9.3",
       "_model_name": "AnyModel",
       "_view_module": "anywidget",
       "_view_module_version": "0.9.3",
       "_view_name": "AnyView",
       "animate": true,
       "duration": 1,
       "gain": 0.1,
       "layout": "IPY_MODEL_9219ddf51e3a44a490071e819e0cb33b",
       "size": 30
      }
     },
     "bf1a6e277be745f9b4e9f041d6121627": {
      "model_module": "@jupyter-widgets/base",
      "model_module_version": "2.0.0",
      "model_name": "LayoutModel",
      "state": {}
     },
     "cec20bb4398d43dd9b712acfd214c866": {
      "buffers": [
       {
        "data": "AAAA//dSAP/3UgD/91IA//dSAP/3UgD/91IA//dSAP/3UgD/91IA//dSAP/3UgD/91IA//dSAP/3UgD/AAAA//dSAP/3unf/97p3//e6d//3unf/97p3//e6d//3unf/97p3//e6d//3unf/97p3//e6d//3unf/97p3/wAAAP/3UgD/97p3/wAAAP/3unf/97p3//e6d//3unf/97p3//e6d//3unf/97p3//e6d//3unf/AAAA//e6d/8AAAD/91IA//e6d//3unf/97p3//e6d//3UgD/91IA//dSAP/3UgD/91IA//e6d//3unf/97p3//e6d//3unf/AAAA//dSAP/3unf/97p3//e6d//3UgD/91IA/wAAAP8AAAD/AAAA//dSAP/3UgD/97p3//e6d//3unf/97p3/wAAAP/3UgD/97p3//e6d//3unf/91IA//dSAP8AAAD/97p3//e6d//3UgD/91IA/wAAAP/3unf/97p3//e6d/8AAAD/91IA//e6d//3unf/97p3//dSAP/3UgD/AAAA//e6d//3unf/91IA//dSAP8AAAD/97p3//e6d//3unf/AAAA//dSAP/3unf/97p3//e6d//3unf/AAAA/wAAAP/3unf/91IA//dSAP/3UgD/AAAA//e6d//3unf/97p3/wAAAP/3UgD/97p3//e6d//3unf/97p3//e6d//3unf/91IA//dSAP8AAAD/AAAA/wAAAP/3unf/97p3//e6d/8AAAD/91IA//e6d//3unf/97p3//e6d//3unf/97p3//dSAP/3UgD/AAAA//e6d//3unf/97p3//e6d//3unf/AAAA//dSAP/3unf/97p3//e6d//3unf/97p3//e6d//3unf/AAAA/wAAAP/3unf/97p3//e6d//3unf/97p3/wAAAP/3UgD/97p3//e6d//3unf/97p3//e6d//3unf/91IA//dSAP/3unf/97p3//e6d//3unf/97p3//e6d/8AAAD/91IA//e6d//3unf/97p3//e6d//3unf/97p3//dSAP/3UgD/AAAA//e6d//3unf/97p3//e6d//3unf/AAAA//dSAP/3unf/AAAA//e6d//3unf/97p3//e6d//3unf/AAAA/wAAAP/3unf/97p3//e6d/8AAAD/97p3/wAAAP/3UgD/97p3//e6d//3unf/97p3//e6d//3unf/97p3//e6d//3unf/97p3//e6d//3unf/97p3//e6d/8AAAD/AAAA/wAAAP8AAAD/AAAA/wAAAP8AAAD/AAAA/wAAAP8AAAD/AAAA/wAAAP8AAAD/AAAA/wAAAP8AAAD/AAAA/w==",
        "encoding": "base64",
        "path": [
         "_box"
        ]
       }
      ],
      "model_module": "anywidget",
      "model_module_version": "0.9.3",
      "model_name": "AnyModel",
      "state": {
       "_anywidget_id": "ipymario.Widget",
       "_css": ".ipymario > canvas {\n    padding: 12px;\n    animation-fill-mode: both;\n}\n\n@keyframes ipymario-bounce {\n  0%, 100% { transform: translateY(0); }\n  50% { transform: translateY(-12px); }\n}\n",
       "_esm": "function chime({ gain, duration }) {\n    let c = new AudioContext();\n    let g = c.createGain();\n    let o = c.createOscillator();\n    let of = o.frequency;\n    g.connect(c.destination)\n    g.gain.value = gain;\n    g.gain.linearRampToValueAtTime(0, duration)\n    o.connect(g)\n    o.type = \"square\";\n    of.setValueAtTime(988,0)\n    of.setValueAtTime(1319,0.08)\n    o.start()\n    o.stop(duration)\n}\nfunction render({ model, el }) {\n    let canvas = document.createElement(\"canvas\");\n    canvas.width = 16;\n    canvas.height = 16;\n    canvas.style.width = \"30px\";\n    canvas.style.height = \"30px\";\n    let bytes = new Uint8ClampedArray(\n        model.get(\"_box\").buffer\n    );\n    let imgData = new ImageData(bytes, 16, 16);\n    let ctx = canvas.getContext(\"2d\");\n    ctx.putImageData(imgData, 0, 0);\n    \n    canvas.addEventListener(\"click\", () => {\n        chime({\n            gain: model.get(\"gain\"),\n            duration: model.get(\"duration\"),\n        });\n        canvas.style.animation = \"none\";\n        setTimeout(() => {\n            canvas.style.animation = \"ipymario-bounce 0.2s\";\n        }, 10);\n    });\n    model.on(\"msg:custom\", (msg) => {\n        if (msg?.type === \"click\") canvas.click();\n    })\n\n    el.classList.add(\"ipymario\");\n    el.appendChild(canvas);\n}\nexport default { render };",
       "_model_module": "anywidget",
       "_model_module_version": "0.9.3",
       "_model_name": "AnyModel",
       "_view_module": "anywidget",
       "_view_module_version": "0.9.3",
       "_view_name": "AnyView",
       "animate": false,
       "duration": 1,
       "gain": 0.1,
       "layout": "IPY_MODEL_054fd45fd182418ebc41bf39873b4128",
       "size": 30
      }
     },
     "f11df6514b574dab94e8f6cbaed9de8c": {
      "buffers": [
       {
        "data": "AAAA//dSAP/3UgD/91IA//dSAP/3UgD/91IA//dSAP/3UgD/91IA//dSAP/3UgD/91IA//dSAP/3UgD/AAAA//dSAP/3unf/97p3//e6d//3unf/97p3//e6d//3unf/97p3//e6d//3unf/97p3//e6d//3unf/97p3/wAAAP/3UgD/97p3/wAAAP/3unf/97p3//e6d//3unf/97p3//e6d//3unf/97p3//e6d//3unf/AAAA//e6d/8AAAD/91IA//e6d//3unf/97p3//e6d//3UgD/91IA//dSAP/3UgD/91IA//e6d//3unf/97p3//e6d//3unf/AAAA//dSAP/3unf/97p3//e6d//3UgD/91IA/wAAAP8AAAD/AAAA//dSAP/3UgD/97p3//e6d//3unf/97p3/wAAAP/3UgD/97p3//e6d//3unf/91IA//dSAP8AAAD/97p3//e6d//3UgD/91IA/wAAAP/3unf/97p3//e6d/8AAAD/91IA//e6d//3unf/97p3//dSAP/3UgD/AAAA//e6d//3unf/91IA//dSAP8AAAD/97p3//e6d//3unf/AAAA//dSAP/3unf/97p3//e6d//3unf/AAAA/wAAAP/3unf/91IA//dSAP/3UgD/AAAA//e6d//3unf/97p3/wAAAP/3UgD/97p3//e6d//3unf/97p3//e6d//3unf/91IA//dSAP8AAAD/AAAA/wAAAP/3unf/97p3//e6d/8AAAD/91IA//e6d//3unf/97p3//e6d//3unf/97p3//dSAP/3UgD/AAAA//e6d//3unf/97p3//e6d//3unf/AAAA//dSAP/3unf/97p3//e6d//3unf/97p3//e6d//3unf/AAAA/wAAAP/3unf/97p3//e6d//3unf/97p3/wAAAP/3UgD/97p3//e6d//3unf/97p3//e6d//3unf/91IA//dSAP/3unf/97p3//e6d//3unf/97p3//e6d/8AAAD/91IA//e6d//3unf/97p3//e6d//3unf/97p3//dSAP/3UgD/AAAA//e6d//3unf/97p3//e6d//3unf/AAAA//dSAP/3unf/AAAA//e6d//3unf/97p3//e6d//3unf/AAAA/wAAAP/3unf/97p3//e6d/8AAAD/97p3/wAAAP/3UgD/97p3//e6d//3unf/97p3//e6d//3unf/97p3//e6d//3unf/97p3//e6d//3unf/97p3//e6d/8AAAD/AAAA/wAAAP8AAAD/AAAA/wAAAP8AAAD/AAAA/wAAAP8AAAD/AAAA/wAAAP8AAAD/AAAA/wAAAP8AAAD/AAAA/w==",
        "encoding": "base64",
        "path": [
         "_box"
        ]
       }
      ],
      "model_module": "anywidget",
      "model_module_version": "0.9.3",
      "model_name": "AnyModel",
      "state": {
       "_anywidget_id": "ipymario.Widget",
       "_css": ".ipymario > canvas {\n    padding: 12px;\n    animation-fill-mode: both;\n}\n\n@keyframes ipymario-bounce {\n  0%, 100% { transform: translateY(0); }\n  50% { transform: translateY(-12px); }\n}\n",
       "_esm": ".ipymario > canvas {\n    padding: 12px;\n    animation-fill-mode: both;\n}\n\n@keyframes ipymario-bounce {\n  0%, 100% { transform: translateY(0); }\n  50% { transform: translateY(-12px); }\n}",
       "_model_module": "anywidget",
       "_model_module_version": "0.9.3",
       "_model_name": "AnyModel",
       "_view_module": "anywidget",
       "_view_module_version": "0.9.3",
       "_view_name": "AnyView",
       "animate": true,
       "duration": 1,
       "gain": 0.1,
       "layout": "IPY_MODEL_7e47c7b60f78419788e0d722630c3733",
       "size": 30
      }
     }
    },
    "version_major": 2,
    "version_minor": 0
   }
  }
 },
 "nbformat": 4,
 "nbformat_minor": 5
}
