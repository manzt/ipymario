{
 "cells": [
  {
   "cell_type": "code",
   "execution_count": 1,
   "id": "03d45df4-96d5-4548-911d-00bf8938b6da",
   "metadata": {},
   "outputs": [
    {
     "name": "stdout",
     "output_type": "stream",
     "text": [
      "env: ANYWIDGET_HMR=1\n"
     ]
    }
   ],
   "source": [
    "%env ANYWIDGET_HMR=1"
   ]
  },
  {
   "cell_type": "code",
   "execution_count": 2,
   "id": "c820218d-3fc4-404c-989c-561725a7acc9",
   "metadata": {},
   "outputs": [
    {
     "data": {
      "application/vnd.jupyter.widget-view+json": {
       "model_id": "cec20bb4398d43dd9b712acfd214c866",
       "version_major": 2,
       "version_minor": 0
      },
      "text/plain": [
       "Widget()"
      ]
     },
     "execution_count": 2,
     "metadata": {},
     "output_type": "execute_result"
    }
   ],
   "source": [
    "import ipymario\n",
    "\n",
    "w = ipymario.Widget()\n",
    "w"
   ]
  },
  {
   "cell_type": "code",
   "execution_count": 3,
   "id": "455ee55f-7b76-42a7-8d4d-551c90f55a35",
   "metadata": {},
   "outputs": [],
   "source": [
    "w.animate = False"
   ]
  },
  {
   "cell_type": "code",
   "execution_count": 4,
   "id": "09e29ad1-9b5e-4fa3-9dfb-0f0d2f30df62",
   "metadata": {},
   "outputs": [],
   "source": [
    "w.click()"
   ]
  }
 ],
 "metadata": {
  "kernelspec": {
   "display_name": "Python 3 (ipykernel)",
   "language": "python",
   "name": "python3"
  },
  "language_info": {
   "codemirror_mode": {
    "name": "ipython",
    "version": 3
   },
   "file_extension": ".py",
   "mimetype": "text/x-python",
   "name": "python",
   "nbconvert_exporter": "python",
   "pygments_lexer": "ipython3",
   "version": "3.11.7"
  },
  "widgets": {
   "application/vnd.jupyter.widget-state+json": {
    "state": {},
    "version_major": 2,
    "version_minor": 0
   }
  }
 },
 "nbformat": 4,
 "nbformat_minor": 5
}
